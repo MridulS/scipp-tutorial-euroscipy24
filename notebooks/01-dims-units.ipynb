{
 "cells": [
  {
   "cell_type": "markdown",
   "id": "5f6a2668-c868-4ea0-a70d-4c20141a5cd2",
   "metadata": {},
   "source": [
    "# Introduction to labeled dimensions: why do we need them?"
   ]
  },
  {
   "cell_type": "code",
   "execution_count": null,
   "id": "3318439e-232e-439e-88b0-50f8cc150bb2",
   "metadata": {},
   "outputs": [],
   "source": [
    "%matplotlib widget\n",
    "import numpy as np\n",
    "import scipp as sc\n",
    "from utils.helper import plot, fill_up_container\n",
    "\n",
    "rng = np.random.default_rng(seed=1234)"
   ]
  },
  {
   "cell_type": "code",
   "execution_count": null,
   "id": "cdef4a83-cc5c-443a-873c-2cbdd11f5128",
   "metadata": {},
   "outputs": [],
   "source": [
    "ny, nx = 10, 20\n",
    "x = np.linspace(0, 2 * np.pi, nx)\n",
    "y = np.linspace(0, 2 * np.pi, ny)\n",
    "x, y = np.meshgrid(x, y)\n",
    "\n",
    "z = np.sin(x) * np.cos(y)"
   ]
  },
  {
   "cell_type": "code",
   "execution_count": null,
   "id": "59ddb682-44d0-4fa3-8d7f-8c8b6b4dd208",
   "metadata": {},
   "outputs": [],
   "source": [
    "# What do we know about the variable `z`?\n",
    "z.shape"
   ]
  },
  {
   "cell_type": "code",
   "execution_count": null,
   "id": "74c8deca-b7fb-411e-9b62-35ed8f9c859f",
   "metadata": {},
   "outputs": [],
   "source": [
    "plot(z)"
   ]
  },
  {
   "cell_type": "code",
   "execution_count": null,
   "id": "28ce5b83-5bfe-4a3f-8cef-64a9703e0fa7",
   "metadata": {},
   "outputs": [],
   "source": [
    "# Slice out row number 4\n",
    "plot(z[4, :])"
   ]
  },
  {
   "cell_type": "code",
   "execution_count": null,
   "id": "d7006959-f156-4cc6-b207-b6b0c0282d8a",
   "metadata": {},
   "outputs": [],
   "source": [
    "# Slice out col number 12\n",
    "plot(z[12, :])"
   ]
  },
  {
   "cell_type": "code",
   "execution_count": null,
   "id": "2efe53de-78c5-480e-a462-03f2a6d48106",
   "metadata": {},
   "outputs": [],
   "source": [
    "plot(z[:, 12])"
   ]
  },
  {
   "cell_type": "markdown",
   "id": "96d183eb-55d6-4dcb-b2e4-4271168f10b5",
   "metadata": {},
   "source": [
    "#### We can't always deduce from the shape\n",
    "\n",
    "When both dimensions have the same length,\n",
    "it can sometimes be difficult to remember which dimension is which:"
   ]
  },
  {
   "cell_type": "code",
   "execution_count": null,
   "id": "9ed3e868-1393-4f55-9c4e-2ac79ad43ecc",
   "metadata": {},
   "outputs": [],
   "source": [
    "ny, nx = 20, 20\n",
    "x = np.linspace(0, 2 * np.pi, nx)\n",
    "y = np.linspace(0, 2 * np.pi, ny)\n",
    "x, y = np.meshgrid(x, y)\n",
    "\n",
    "z = np.sin(x) * np.cos(y)"
   ]
  },
  {
   "cell_type": "code",
   "execution_count": null,
   "id": "a1df181d-0b25-41bb-a7a4-95747c7d67c3",
   "metadata": {},
   "outputs": [],
   "source": [
    "plot(z)"
   ]
  },
  {
   "cell_type": "code",
   "execution_count": null,
   "id": "973523a0-8dfe-4649-aabf-4755ee8e9227",
   "metadata": {},
   "outputs": [],
   "source": [
    "plot(z[4, :], z[:, 4])"
   ]
  },
  {
   "cell_type": "markdown",
   "id": "542724b3-c603-47ea-b4a8-9f4000e922b8",
   "metadata": {},
   "source": [
    "### The situation gets worse with more dimensions\n",
    "\n",
    "Say I now have an array that has 4 dimensions: `x, y, z, time` (in that order if I'm lucky?)."
   ]
  },
  {
   "cell_type": "code",
   "execution_count": null,
   "id": "2eda58dd-4309-4f68-ab5c-c1dd2448fd61",
   "metadata": {},
   "outputs": [],
   "source": [
    "a = np.random.random([20] * 4)\n",
    "a.shape"
   ]
  },
  {
   "cell_type": "markdown",
   "id": "aef30bd8-600c-45b4-ab6a-46e99beb0d10",
   "metadata": {},
   "source": [
    "I want to get the first `z` slice...\n",
    "\n",
    "Which one was it again?"
   ]
  },
  {
   "cell_type": "code",
   "execution_count": null,
   "id": "639fafc2-6185-496f-9d21-404e14b077c9",
   "metadata": {},
   "outputs": [],
   "source": [
    "z_slice = a[:, :, 0, :]  # x,y,z,t\n",
    "z_slice = a[0, :, :, :]  # z,y,x,t\n",
    "z_slice = a[:, :, :, 0]  # t,x,y,z"
   ]
  },
  {
   "cell_type": "markdown",
   "id": "cc7109be-28c3-490f-9c84-1efe7cbc3c28",
   "metadata": {},
   "source": [
    "# Introducing labeled dimensions\n",
    "\n",
    "<img src=\"https://xarray.dev/Xarray-assets/RGB/Xarray_Logo_RGB_Final.svg\" width=\"220\" />\n",
    "\n",
    "[Xarray](https://docs.xarray.dev/en/stable/index.html) (https://docs.xarray.dev) introduced labels to multi-dimensional Numpy arrays.\n",
    "\n",
    "\"*real-world datasets are usually more than just raw numbers; they have labels which encode information about how the array values map to locations in space, time, etc.*\"\n",
    "\n",
    "We have embraced, and to a large extent copied, the Xarray mechanism.\n",
    "\n",
    "<img src=\"https://scipp.github.io/_static/logo-2022.svg\" width=\"220\" />"
   ]
  },
  {
   "cell_type": "code",
   "execution_count": null,
   "id": "881019d2-c790-461a-b736-d4d1c6e7534d",
   "metadata": {},
   "outputs": [],
   "source": [
    "var = sc.array(dims=[\"x\", \"y\", \"z\", \"time\"], values=a)"
   ]
  },
  {
   "cell_type": "code",
   "execution_count": null,
   "id": "42096a7f-0aec-4315-8d4d-e9a75d62f446",
   "metadata": {},
   "outputs": [],
   "source": [
    "# Get the first slice in the dimension z\n",
    "var[\"z\", 0]"
   ]
  },
  {
   "cell_type": "code",
   "execution_count": null,
   "id": "9cc7cdcc-b32a-4460-bdba-229667af4c55",
   "metadata": {},
   "outputs": [],
   "source": [
    "# Get the first 10 slices in the dimension time\n",
    "var[\"time\", 0:10]"
   ]
  },
  {
   "cell_type": "markdown",
   "id": "e85ab60b-1c90-4496-9b92-c629f0ef79c9",
   "metadata": {},
   "source": [
    "#### Adding coordinates\n",
    "\n",
    "Coordinates can be specified for each dimension.\n",
    "Essentially, they describe the extent of each axis, as well as how far each data point is from its neighbours."
   ]
  },
  {
   "cell_type": "code",
   "execution_count": null,
   "id": "5d4c6b1d-c2b6-4998-b207-1cbc203fd3a9",
   "metadata": {},
   "outputs": [],
   "source": [
    "data = sc.array(dims=[\"latitude\", \"longitude\"], values=rng.random((5, 9)))\n",
    "sc.show(data)"
   ]
  },
  {
   "cell_type": "code",
   "execution_count": null,
   "id": "73db5dfc-8864-44aa-8a7d-ae5d61cc5650",
   "metadata": {},
   "outputs": [],
   "source": [
    "da = sc.DataArray(\n",
    "    data=data,\n",
    "    coords={\n",
    "        \"longitude\": sc.linspace(\"longitude\", -120, 120, 9),\n",
    "        \"latitude\": sc.linspace(\"latitude\", -70, 70, 5),\n",
    "    },\n",
    ")\n",
    "da"
   ]
  },
  {
   "cell_type": "code",
   "execution_count": null,
   "id": "763c0c5a-d4f7-44c4-8326-0284a27cd227",
   "metadata": {},
   "outputs": [],
   "source": [
    "sc.show(da)"
   ]
  },
  {
   "cell_type": "code",
   "execution_count": null,
   "id": "6fd356d0-89c2-4ec2-9447-c31e174a39a4",
   "metadata": {},
   "outputs": [],
   "source": [
    "da.plot()"
   ]
  },
  {
   "cell_type": "markdown",
   "id": "c8fa152a-e793-4b9b-b258-ab1ed6a4070f",
   "metadata": {},
   "source": [
    "### Automatic broadcasting\n",
    "\n",
    "Because of the labeled dimensions,\n",
    "operations between arrays with different dimensions can automatically broadcast operands to the correct shape:"
   ]
  },
  {
   "cell_type": "code",
   "execution_count": null,
   "id": "6e08855b-c3ce-40fe-b59a-9cf61ce76e01",
   "metadata": {},
   "outputs": [],
   "source": [
    "a = sc.array(dims=[\"y\", \"x\"], values=rng.random((50, 50)))  # 2D array\n",
    "b = sc.array(dims=[\"x\"], values=np.arange(50.0))  # 1D array\n",
    "c = a * b\n",
    "c"
   ]
  },
  {
   "cell_type": "code",
   "execution_count": null,
   "id": "bdf271db-4c48-4751-bd58-cad1b516e06e",
   "metadata": {},
   "outputs": [],
   "source": [
    "c.plot(aspect=\"equal\")"
   ]
  },
  {
   "cell_type": "markdown",
   "id": "e0496053-b0ff-46b2-8af2-edb3dc9d87ae",
   "metadata": {},
   "source": [
    "There is no longer a need for Numpy's `x.reshape(50, 1)`!"
   ]
  },
  {
   "cell_type": "code",
   "execution_count": null,
   "id": "741959c9-9700-4b53-a3a7-72200a07c200",
   "metadata": {},
   "outputs": [],
   "source": [
    "a = sc.array(dims=[\"y\", \"x\"], values=rng.random((50, 50)))  # 2D array\n",
    "b = sc.array(dims=[\"z\"], values=np.arange(50.0))  # 1D array\n",
    "c = a * b\n",
    "c"
   ]
  },
  {
   "cell_type": "markdown",
   "id": "752d99ff-2fde-4e86-bf23-5e695588ab49",
   "metadata": {},
   "source": [
    "# Physical units\n",
    "\n",
    "Every data variable and coordinate in Scipp has physical units."
   ]
  },
  {
   "cell_type": "code",
   "execution_count": null,
   "id": "cc54c963-ec22-419e-91e2-7d10e8e043a0",
   "metadata": {},
   "outputs": [],
   "source": [
    "s = rng.normal(size=(2, 10000))\n",
    "h = np.histogram2d(s[0], s[1], bins=(50, 50))[0]\n",
    "\n",
    "image = sc.array(dims=[\"y\", \"x\"], values=h, unit=\"counts\")\n",
    "image"
   ]
  },
  {
   "cell_type": "code",
   "execution_count": null,
   "id": "2186307f-eca0-49be-baeb-4b4f9a0b0bfd",
   "metadata": {},
   "outputs": [],
   "source": [
    "image.plot(aspect=\"equal\")"
   ]
  },
  {
   "cell_type": "code",
   "execution_count": null,
   "id": "eb4000a9-6266-423f-a1c5-6c3f64c4f177",
   "metadata": {},
   "outputs": [],
   "source": [
    "integration_time = sc.scalar(300.0, unit=\"s\")\n",
    "image /= integration_time\n",
    "print(image.unit)\n",
    "\n",
    "image.plot(aspect=\"equal\")"
   ]
  },
  {
   "cell_type": "markdown",
   "id": "997c87a3-21f6-4c38-b826-09b0cb130120",
   "metadata": {},
   "source": [
    "### Units also provide protection\n",
    "\n",
    "Say I now have a background image (dark frame) which I want to subtract from the signal image above,\n",
    "but I forgot to first normalize it by integration time"
   ]
  },
  {
   "cell_type": "code",
   "execution_count": null,
   "id": "b3d99c69-2c35-4d29-b6f0-c00fe265c609",
   "metadata": {},
   "outputs": [],
   "source": [
    "background = sc.array(dims=[\"y\", \"x\"], values=rng.random((50, 50)), unit=\"counts\")\n",
    "\n",
    "image - background"
   ]
  },
  {
   "cell_type": "code",
   "execution_count": null,
   "id": "b3955ed6-01a3-4a85-8049-e4da02f1e4f0",
   "metadata": {},
   "outputs": [],
   "source": [
    "background_integration_time = sc.scalar(60.0, unit=\"s\")\n",
    "background /= background_integration_time\n",
    "\n",
    "(image - background).plot(aspect=\"equal\")"
   ]
  },
  {
   "cell_type": "code",
   "execution_count": null,
   "id": "a3e55cf7-fed5-4e90-9ddc-b7d0c958be5e",
   "metadata": {},
   "outputs": [],
   "source": [
    "image.dims"
   ]
  },
  {
   "cell_type": "code",
   "execution_count": null,
   "id": "95e71c55-c2cf-4662-aa2e-592b6bec3a92",
   "metadata": {},
   "outputs": [],
   "source": [
    "print(f\"unit: {image.unit}\")\n",
    "print(f\"dims: {image.dims}\")\n",
    "image"
   ]
  },
  {
   "cell_type": "markdown",
   "id": "6ce7e191-e388-4a95-b87f-78194a84cb69",
   "metadata": {},
   "source": [
    "The units are very useful in early prevention of difficult-to-spot bugs in a workflow.\n",
    "\n",
    "They save **hours** of debugging time, free-up mental capacity and let the user focus on the important thing: **doing science**.\n",
    "\n",
    "(see also [pint](https://pint.readthedocs.io/en/stable/), [astropy.units](https://docs.astropy.org/en/stable/units/index.html), [pint-xarray](https://pint-xarray.readthedocs.io/en/stable/), ...)"
   ]
  },
  {
   "cell_type": "code",
   "execution_count": null,
   "id": "c80a5b3d-e34d-4ad0-bbb5-570f1b580284",
   "metadata": {},
   "outputs": [],
   "source": [
    "scalar = sc.scalar(1.2, unit=\"Å\")\n",
    "sc.show(scalar)\n",
    "scalar"
   ]
  },
  {
   "cell_type": "code",
   "execution_count": null,
   "id": "a9feb99f-400a-42ec-bf91-23ab8f8f9bb0",
   "metadata": {},
   "outputs": [],
   "source": [
    "sc.scalar(1.0, unit=\"g\") + sc.scalar(1.0, unit=\"kg\").to(unit=\"g\")"
   ]
  },
  {
   "cell_type": "markdown",
   "id": "6ea86f2a-8138-46c2-b250-3c8f2dc68390",
   "metadata": {},
   "source": [
    ":::{important} Let's make chia oat pudding with scipp\n",
    "\n",
    "Make a dictionary of `ingredients` (scalars) with:\n",
    "- [ ] 80g Oats\n",
    "- [ ] 20g Chia seeds\n",
    "- [ ] 160ml milk (I like oat milk)\n",
    "- [ ] 5g date syrup\n",
    "- [ ] 1g salt\n",
    ":::\n",
    "\n",
    ":::{note} Solution\n",
    ":class: dropdown\n",
    "```\n",
    "ingredients = {\n",
    "    'oats': sc.scalar(80, unit='g'),\n",
    "    'chia': sc.scalar(20, unit='g'),\n",
    "    'milk': sc.scalar(160, unit='ml'),\n",
    "    'date': sc.scalar(5, unit='g'),\n",
    "    'salt': sc.scalar(1, unit='g'),\n",
    "}\n",
    "```\n",
    ":::"
   ]
  },
  {
   "cell_type": "code",
   "execution_count": null,
   "id": "53614a8d-90a1-46ea-9fb0-91a9d8f7c5c2",
   "metadata": {},
   "outputs": [],
   "source": [
    "ingredients = {\n",
    "    'oats': ...,\n",
    "    'chia': ...,\n",
    "    'milk': ...,\n",
    "    'date': ...,\n",
    "    'salt': ...,\n",
    "}"
   ]
  },
  {
   "cell_type": "markdown",
   "id": "c895ac6c-ac76-40f3-8600-20a71eec08dc",
   "metadata": {
    "user_expressions": [
     {
      "expression": "', '.join(f\"{i} ({ingredients[i].value}{ingredients[i].unit})\" for i in ingredients)",
      "result": {
       "ename": "AttributeError",
       "evalue": "'ellipsis' object has no attribute 'value'",
       "status": "error",
       "traceback": [
        "\u001b[0;31mAttributeError\u001b[0m\u001b[0;31m:\u001b[0m 'ellipsis' object has no attribute 'value'\n"
       ]
      }
     }
    ]
   },
   "source": [
    ":::{admonition} Do we have everything?\n",
    "{eval}`', '.join(f\"{i} ({ingredients[i].value}{ingredients[i].unit})\" for i in ingredients)`\n",
    ":::"
   ]
  },
  {
   "cell_type": "code",
   "execution_count": null,
   "id": "80230611-649b-4523-917e-dcbd26fa58ba",
   "metadata": {},
   "outputs": [],
   "source": [
    "# Let's model our pudding.\n",
    "number_of_seeds = sc.scalar(600, unit=\"1/g\")"
   ]
  },
  {
   "cell_type": "code",
   "execution_count": null,
   "id": "75e56813-6207-4927-a8c8-30fb6b630332",
   "metadata": {},
   "outputs": [],
   "source": [
    "seeds = number_of_seeds * ingredients[\"chia\"]\n",
    "seeds"
   ]
  },
  {
   "cell_type": "code",
   "execution_count": null,
   "id": "6c4dac95-3bd7-4745-8c87-1268cc82ec58",
   "metadata": {},
   "outputs": [],
   "source": [
    "container = sc.zeros(dims=(\"x\", \"y\", \"z\"), shape=(39, 39, 39))"
   ]
  },
  {
   "cell_type": "code",
   "execution_count": null,
   "id": "139ed8c2-9511-48cb-9bf0-ae3c78c2dcd1",
   "metadata": {},
   "outputs": [],
   "source": [
    "container"
   ]
  },
  {
   "cell_type": "code",
   "execution_count": null,
   "id": "387f964a-857d-46f3-8b99-31bcf524d648",
   "metadata": {},
   "outputs": [],
   "source": [
    "fill_up_container(container, seeds)"
   ]
  },
  {
   "cell_type": "code",
   "execution_count": null,
   "id": "972b4cb1-fc9c-41a4-ac7c-fba4ea246e95",
   "metadata": {},
   "outputs": [],
   "source": [
    "container.sum()"
   ]
  },
  {
   "cell_type": "markdown",
   "id": "58c9d994-6b44-4798-bba8-0611421106b0",
   "metadata": {},
   "source": [
    ":::{important} Let's look at our pudding.\n",
    "\n",
    "Make plots using the dimensions (`x`, `y`, `z`) which\n",
    "- is the 10th slice in the `x` dimension.\n",
    "- plots the 15th slice in `y` dimension and between the 0 and 15 indices in `z` axis.\n",
    "- finds all the seeds in the `z` dimension for `x=18, y=20`.\n",
    ":::\n",
    "\n",
    ":::{note} Solution\n",
    ":class: dropdown\n",
    "```\n",
    "container['x', 10].plot()\n",
    "container['y', 15]['z', 0:15].plot()\n",
    "container['x', 18]['y', 20].plot()\n",
    "```\n",
    "\n",
    ":::"
   ]
  },
  {
   "cell_type": "code",
   "execution_count": null,
   "id": "4943d32d-f45e-4cd2-a34d-c397c131b2cb",
   "metadata": {},
   "outputs": [],
   "source": []
  },
  {
   "cell_type": "markdown",
   "id": "cfe78e86-70dc-494a-9bda-64c0e878104c",
   "metadata": {},
   "source": [
    ":::{admonition} But what about the full container?\n",
    ":class: tip\n",
    "\n",
    "Let's plot it!\n",
    "\n",
    ":::\n"
   ]
  },
  {
   "cell_type": "code",
   "execution_count": null,
   "id": "f6a5d29c-bb40-4464-81f4-0403e0fbc529",
   "metadata": {},
   "outputs": [],
   "source": [
    "import plopp as pp"
   ]
  },
  {
   "cell_type": "code",
   "execution_count": null,
   "id": "09884063-6cd9-43f1-8dca-929cb81776e7",
   "metadata": {},
   "outputs": [],
   "source": [
    "data = sc.DataArray(\n",
    "    data=container,\n",
    "    coords={\n",
    "        \"x\": sc.linspace(\"x\", 0, 39, 39),\n",
    "        \"y\": sc.linspace(\"y\", 0, 39, 39),\n",
    "        \"z\": sc.linspace(\"z\", 0, 39, 39),\n",
    "    },\n",
    ")"
   ]
  },
  {
   "cell_type": "code",
   "execution_count": null,
   "id": "9914ab25-db8c-4462-8c47-a27614af810a",
   "metadata": {},
   "outputs": [],
   "source": [
    "pp.scatter3d(data, cmap=\"binary\")"
   ]
  },
  {
   "cell_type": "code",
   "execution_count": null,
   "id": "1aab08ce-75cf-46a0-a736-009a1cb93696",
   "metadata": {},
   "outputs": [],
   "source": []
  }
 ],
 "metadata": {
  "kernelspec": {
   "display_name": "Python 3 (ipykernel)",
   "language": "python",
   "name": "python3"
  },
  "language_info": {
   "codemirror_mode": {
    "name": "ipython",
    "version": 3
   },
   "file_extension": ".py",
   "mimetype": "text/x-python",
   "name": "python",
   "nbconvert_exporter": "python",
   "pygments_lexer": "ipython3",
   "version": "3.12.5"
  }
 },
 "nbformat": 4,
 "nbformat_minor": 5
}
