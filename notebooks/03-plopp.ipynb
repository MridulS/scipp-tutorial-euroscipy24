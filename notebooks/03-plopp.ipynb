{
 "cells": [
  {
   "cell_type": "markdown",
   "id": "3d2790da-668b-4dad-91c0-9d73f09bcdab",
   "metadata": {},
   "source": [
    "# Let's plopp some things."
   ]
  },
  {
   "cell_type": "markdown",
   "id": "a97e5f89-8d3f-4dec-bd5b-923c49537857",
   "metadata": {},
   "source": [
    "A lot more examples are available in the docs: https://scipp.github.io/plopp/user-guide/index.html\n",
    "\n",
    "This notebook will demonstrate how to create custom interactive interfaces to visualize a data set with `plopp`."
   ]
  },
  {
   "cell_type": "code",
   "execution_count": null,
   "id": "850173b5-e002-49b4-ab1f-11a7ce3a6401",
   "metadata": {},
   "outputs": [],
   "source": [
    "%matplotlib widget\n",
    "import plopp as pp\n",
    "import scipp as sc\n",
    "import numpy as np"
   ]
  },
  {
   "cell_type": "markdown",
   "id": "53c46a33-2385-4fa8-b440-d1d7dc7ff736",
   "metadata": {},
   "source": [
    "The data is a two-dimensional data array, where the values are generated using a sine function.\n",
    "We also add a small amount of random noise to the values."
   ]
  },
  {
   "cell_type": "code",
   "execution_count": null,
   "id": "43374bbd-3dbd-46f0-b52e-558752a85bb8",
   "metadata": {},
   "outputs": [],
   "source": [
    "nx = 200\n",
    "ny = 150\n",
    "\n",
    "x = np.arange(float(nx))\n",
    "y = np.arange(float(ny))\n",
    "noise = np.random.random((ny, nx))\n",
    "z = 3.0 * np.sin(np.sqrt(x**2 + y.reshape(ny, 1) ** 2) / 10.0) + noise + 300.0\n",
    "\n",
    "da = sc.DataArray(\n",
    "    data=sc.array(dims=[\"y\", \"x\"], values=z, unit=\"K\"),\n",
    "    coords={\n",
    "        \"x\": sc.array(dims=[\"x\"], values=x, unit=\"m\"),\n",
    "        \"y\": sc.array(dims=[\"y\"], values=y, unit=\"m\"),\n",
    "    },\n",
    ")\n",
    "\n",
    "da"
   ]
  },
  {
   "cell_type": "markdown",
   "id": "6a96bf2d-3849-4c90-8c67-3838cf50b429",
   "metadata": {},
   "source": [
    "## A set of connected nodes\n",
    "\n",
    "In `plopp`, think of each element in your interface as a set of interconnected nodes in a graph.\n",
    "Each node can have parent nodes, children nodes, and also views attached to them (e.g. figures).\n",
    "\n",
    "At the most basic level, a graph will contain a node (white rectangle) that provides the input data,\n",
    "and a view (grey ellipse) which will be a figure to display the data visually.\n",
    "Note that the figure takes as input the `data_node`."
   ]
  },
  {
   "cell_type": "code",
   "execution_count": null,
   "id": "424ad72b-5f66-46a2-ad29-9ec67847b5f3",
   "metadata": {},
   "outputs": [],
   "source": [
    "data_node = pp.Node(da)\n",
    "\n",
    "fig = pp.imagefigure(data_node)\n",
    "\n",
    "pp.show_graph(data_node)  # display the graph"
   ]
  },
  {
   "cell_type": "markdown",
   "id": "4e299e9a-da48-47bd-bbae-33572c241e79",
   "metadata": {},
   "source": [
    "When the data in the input node changes, the view is notified about the change.\n",
    "It requests new data from its parent node and updates the visuals on the figure.\n",
    "\n",
    "The figure can directly be displayed in the notebook:"
   ]
  },
  {
   "cell_type": "code",
   "execution_count": null,
   "id": "5b5fd04a-b3c7-4e7d-b08a-f3276f5de08c",
   "metadata": {},
   "outputs": [],
   "source": [
    "fig"
   ]
  },
  {
   "cell_type": "markdown",
   "id": "dadc1065-0c73-4f87-a6a3-f81723ce00dc",
   "metadata": {},
   "source": [
    "### Nodes are callables\n",
    "\n",
    "Nodes in the graph have to be constructed from callables.\n",
    "When a view requests data from a parent node, the callable is called.\n",
    "Typically, the callable will be a function that takes in a data array as an input,\n",
    "and returns a data array as an output.\n",
    "\n",
    "Keeping your inputs and outputs as data arrays is useful because figure views will only accept data arrays as input.\n",
    "That said, nodes that produce other outputs are very common, for example when using interactive widgets.\n",
    "\n",
    "In the small example above, the node at the top of the graph has no parents,\n",
    "and its callable is simply a `lambda` function with no arguments that just returns the input data.\n",
    "\n",
    "Calling any node will return the output from its internal callable\n",
    "(this is very similar to [Dask's](https://docs.dask.org/en/stable/delayed.html) `delayed.compute()` method).\n",
    "In our example above, calling `data_node` will simply return the initial data array"
   ]
  },
  {
   "cell_type": "code",
   "execution_count": null,
   "id": "cf2828c1-b3c7-411f-b965-f56835b6f13e",
   "metadata": {},
   "outputs": [],
   "source": [
    "data_node()"
   ]
  },
  {
   "cell_type": "markdown",
   "id": "9ecf2cbe-7478-4a6b-94b9-b25574b2c9c3",
   "metadata": {},
   "source": [
    "But for more complex graphs, the call will walk the tree, requesting all the pieces of data it needs to compute the final result.\n",
    "\n",
    "## Expanding the graph\n",
    "\n",
    "Next, say we wish to add a gaussian smoothing step in our graph, before showing the data on the figure.\n",
    "We start with the same `data_node`, but add a second node that performs the smoothing operation before attaching the figure.\n",
    "Because the `gaussian_filter` function requires a kernel width `sigma` as input, we set it to 5 via a keyword argument\n",
    "(note here that it is not necessary to wrap it into a `Node`, this will automatically be handled internally)."
   ]
  },
  {
   "cell_type": "code",
   "execution_count": null,
   "id": "20abc54f-ec99-4113-9aef-fb7e4133c6aa",
   "metadata": {},
   "outputs": [],
   "source": [
    "from scipp.scipy.ndimage import gaussian_filter\n",
    "\n",
    "data_node = pp.Node(da)\n",
    "\n",
    "smooth_node = pp.Node(gaussian_filter, data_node, sigma=5)\n",
    "\n",
    "fig = pp.imagefigure(smooth_node)"
   ]
  },
  {
   "cell_type": "code",
   "execution_count": null,
   "id": "591e94d5-2b4e-4820-8cfd-30f381cf09c0",
   "metadata": {},
   "outputs": [],
   "source": [
    "# pp.Node??"
   ]
  },
  {
   "cell_type": "code",
   "execution_count": null,
   "id": "0d790dae-16f4-4cd5-b324-84d518eb2d0a",
   "metadata": {},
   "outputs": [],
   "source": [
    "# data_node()"
   ]
  },
  {
   "cell_type": "code",
   "execution_count": null,
   "id": "f23a13af-d577-498f-845c-14129a3c1d8a",
   "metadata": {},
   "outputs": [],
   "source": [
    "# smooth_node()"
   ]
  },
  {
   "cell_type": "markdown",
   "id": "dcd46e8d-947c-4866-b9c1-a0a70ee56774",
   "metadata": {},
   "source": [
    "The resulting graph has two input nodes (one for the data array and one for the kernel width), a smoothing node, and a figure:"
   ]
  },
  {
   "cell_type": "code",
   "execution_count": null,
   "id": "5cf353e2-6968-4741-becc-926bc3c16f34",
   "metadata": {},
   "outputs": [],
   "source": [
    "pp.show_graph(data_node)"
   ]
  },
  {
   "cell_type": "markdown",
   "id": "b46191da-9516-402f-8f01-ad86014d8bc9",
   "metadata": {},
   "source": [
    "And the resulting figure displays the smoothed data:"
   ]
  },
  {
   "cell_type": "code",
   "execution_count": null,
   "id": "1c986694-254e-4b42-a3f0-ae0d1408a3c1",
   "metadata": {},
   "outputs": [],
   "source": [
    "fig"
   ]
  },
  {
   "cell_type": "markdown",
   "id": "4b69e6aa-88ad-419b-b9af-acd581645e8c",
   "metadata": {},
   "source": [
    "## Adding interactive widgets\n",
    "\n",
    "In the example above, the kernel size `sigma` for the gaussian smoothing was frozen to `5`.\n",
    "But we would actually want to control this via a slider widget.\n",
    "\n",
    "In this case, the smoothing node now needs two inputs: the raw data, and the `sigma`.\n",
    "It gets the raw data from the `data_node`, and the `sigma` from a `widget_node`,\n",
    "which is coupled to a slider from the `ipywidgets` library."
   ]
  },
  {
   "cell_type": "code",
   "execution_count": null,
   "id": "c483edcd-f28c-48c7-a6f4-958964a03bc8",
   "metadata": {},
   "outputs": [],
   "source": [
    "import ipywidgets as ipw\n",
    "\n",
    "data_node = pp.Node(da)\n",
    "\n",
    "slider = ipw.IntSlider(min=1, max=20)\n",
    "slider_node = pp.widget_node(slider)\n",
    "\n",
    "smooth_node = pp.Node(gaussian_filter, data_node, sigma=slider_node)\n",
    "\n",
    "fig = pp.imagefigure(smooth_node)"
   ]
  },
  {
   "cell_type": "code",
   "execution_count": null,
   "id": "92a302d9-14d1-4877-adb6-209d5f61e08a",
   "metadata": {},
   "outputs": [],
   "source": [
    "slider"
   ]
  },
  {
   "cell_type": "code",
   "execution_count": null,
   "id": "d88905b8-7261-4f08-a01f-d6486404a773",
   "metadata": {},
   "outputs": [],
   "source": [
    "slider_node"
   ]
  },
  {
   "cell_type": "markdown",
   "id": "c671a291-bf40-40f7-9e03-75dbd77997b2",
   "metadata": {},
   "source": [
    "As expected, the smoothing node now has a widget as one of its parent nodes instead of the fixed-value input node:"
   ]
  },
  {
   "cell_type": "code",
   "execution_count": null,
   "id": "743c2fdb-9782-439e-9e25-e3afe5960ad3",
   "metadata": {},
   "outputs": [],
   "source": [
    "pp.show_graph(fig)"
   ]
  },
  {
   "cell_type": "markdown",
   "id": "08ce4da8-21ea-4aa4-bedc-4b38f01fdcdd",
   "metadata": {},
   "source": [
    "And we can display the figure and the slider inside the same container:"
   ]
  },
  {
   "cell_type": "code",
   "execution_count": null,
   "id": "9d35d552-af80-46f4-82b3-638d85a2b40a",
   "metadata": {},
   "outputs": [],
   "source": [
    "ipw.VBox([slider, fig])"
   ]
  },
  {
   "cell_type": "markdown",
   "id": "57f6734d-15e4-43da-abfb-c916004152c2",
   "metadata": {},
   "source": [
    "When a change occurs in one of the nodes, all the nodes below it in the graph are notified about the change (the children nodes receive a notification, and they, in turn, notify their own children).\n",
    "It is then up to each view to decide whether they are interested in the notification or not (usually, most views are interested in all notifications from parents).\n",
    "If they are, they request data from their parent nodes, which in turn request data from their parents, and so on, until the request has reached the top of the graph.\n",
    "\n",
    "As a result, when the slider is dragged, the smoothing node gets notified and tells the figure that a change has occurred.\n",
    "The figure tells `smooth_node` that it wants updated data.\n",
    "`smooth_node` asks nodes `data_node` and `slider_node` for their data.\n",
    "`data_node` returns the raw data, while `slider_node` returns the integer value for the kernel size.\n",
    "`smooth_node` then simply sends the inputs to the `gaussian_filter` function, and forwards the result to the figure."
   ]
  },
  {
   "cell_type": "markdown",
   "id": "4375c234-a3c7-47a6-a48f-ee67837cbf82",
   "metadata": {},
   "source": [
    "## Multiple views\n",
    "\n",
    "To go one step further,\n",
    "we now wish to add a one-dimensional figure that will display the sum of the two-dimensional data along the vertical dimension.\n",
    "On this figure, we would like to display both the original (unsmoothed) data, as well as the smoothed data."
   ]
  },
  {
   "cell_type": "code",
   "execution_count": null,
   "id": "686b3cdf-33b5-4e45-85b9-b2266211c0bc",
   "metadata": {},
   "outputs": [],
   "source": [
    "data_node = pp.Node(da)\n",
    "\n",
    "slider = ipw.IntSlider(min=1, max=20, value=10)\n",
    "slider_node = pp.widget_node(slider)\n",
    "\n",
    "smooth_node = pp.Node(gaussian_filter, data_node, sigma=slider_node)\n",
    "\n",
    "fig2d = pp.imagefigure(smooth_node)\n",
    "\n",
    "# Sum the raw data along the vertical dimension\n",
    "sum_raw = pp.Node(sc.sum, data_node, dim=\"y\")\n",
    "# Sum the smoothed data along the vertical dimension\n",
    "sum_smoothed = pp.Node(sc.sum, smooth_node, dim=\"y\")\n",
    "# Give two nodes to a figure to display both on the same axes\n",
    "fig1d = pp.linefigure(sum_raw, sum_smoothed)"
   ]
  },
  {
   "cell_type": "markdown",
   "id": "36c9ea09-8701-465c-beec-f55d371192ee",
   "metadata": {},
   "source": [
    "We check the graph again to make sure that the one-dimensional figure has two inputs,\n",
    "and that both are performing a sum along the `y` dimension."
   ]
  },
  {
   "cell_type": "code",
   "execution_count": null,
   "id": "81ae3b91-9622-48ca-bc90-f5cbce5ea426",
   "metadata": {},
   "outputs": [],
   "source": [
    "pp.show_graph(slider_node)"
   ]
  },
  {
   "cell_type": "code",
   "execution_count": null,
   "id": "d908a930-a1dc-4e7b-90f4-be8cb7e11d88",
   "metadata": {},
   "outputs": [],
   "source": [
    "ipw.VBox([slider, fig2d, fig1d])"
   ]
  },
  {
   "cell_type": "markdown",
   "id": "ce9c950f-6544-4f85-bb73-d4154f0ab093",
   "metadata": {},
   "source": [
    "## Let's go back to Taxis"
   ]
  },
  {
   "cell_type": "code",
   "execution_count": null,
   "id": "9305d601-4fa4-47ed-9c5d-058cd4222f38",
   "metadata": {},
   "outputs": [],
   "source": [
    "da = sc.io.load_hdf5(\"../data/nyc_taxi_data_2015_small.h5\")"
   ]
  },
  {
   "cell_type": "code",
   "execution_count": null,
   "id": "bb91fae2-b81d-48bb-8324-18875fadbd2f",
   "metadata": {},
   "outputs": [],
   "source": [
    "da"
   ]
  },
  {
   "cell_type": "code",
   "execution_count": null,
   "id": "69ba3624-eb39-4688-bddd-1c7c3aa2cbcf",
   "metadata": {},
   "outputs": [],
   "source": [
    "binned = da.bin(dropoff_latitude=8, dropoff_longitude=8)"
   ]
  },
  {
   "cell_type": "code",
   "execution_count": null,
   "id": "ee797577-8287-43d5-a2af-c56049735e02",
   "metadata": {},
   "outputs": [],
   "source": [
    "binned[\"dropoff_longitude\", 1][\"dropoff_latitude\", 4].hist(\n",
    "    dropoff_latitude=200, dropoff_longitude=200\n",
    ").plot(norm=\"log\", aspect=\"equal\")"
   ]
  },
  {
   "attachments": {},
   "cell_type": "markdown",
   "id": "610fdfde-3428-4780-a137-0338d19e6862",
   "metadata": {},
   "source": [
    ":::{important} Let's build a city explorer.\n",
    "\n",
    "- An interactive interface where we can select a longtitude and latitude block and plot a 2d histogram of the dropoff locations.\n",
    ":::\n",
    "\n",
    "![](../images/plopp_interface.png)"
   ]
  },
  {
   "cell_type": "code",
   "execution_count": null,
   "id": "d633c2bd-7134-4669-84a0-5e74a574f3b5",
   "metadata": {},
   "outputs": [],
   "source": [
    "longitude = ipw.Dropdown(\n",
    "    options=range(8),\n",
    "    value=1,\n",
    "    description=\"Longitude:\",\n",
    "    disabled=False,\n",
    ")"
   ]
  },
  {
   "cell_type": "code",
   "execution_count": null,
   "id": "6203a7af-95ca-44b0-be2f-5ada848fefb2",
   "metadata": {},
   "outputs": [],
   "source": [
    "# Create a dropdown widget just like longitude\n",
    "\n",
    "latitude = ..."
   ]
  },
  {
   "cell_type": "code",
   "execution_count": null,
   "id": "a7e90f75-bec9-4fff-9a96-c163d71e575f",
   "metadata": {},
   "outputs": [],
   "source": [
    "# ipw.HBox([longitude, latitude])"
   ]
  },
  {
   "cell_type": "code",
   "execution_count": null,
   "id": "aebd6190-f1db-401d-a881-b93d0fffd082",
   "metadata": {},
   "outputs": [],
   "source": [
    "def generate_binned_hist(*, da: sc.DataArray, long: int, lat: int):\n",
    "    # Take the binned data array and extract the dropoff_longitude at `long`\n",
    "    # and dropoff_latitude at `lat`. Histogram the data array along the\n",
    "    # dropoff_longitude and dropoff_latitude dimension into 200 bins.\n",
    "    pass"
   ]
  },
  {
   "cell_type": "code",
   "execution_count": null,
   "id": "57684603-7e35-401f-a17b-ea3b44cf1bb7",
   "metadata": {},
   "outputs": [],
   "source": [
    "generate_binned_hist(da=binned, long=1, lat=4)"
   ]
  },
  {
   "cell_type": "code",
   "execution_count": null,
   "id": "2ade0826-ed44-4c9b-b692-1db037aa453e",
   "metadata": {},
   "outputs": [],
   "source": [
    "# Create a plopp Node, which takes in the binned data.\n",
    "data_node = ...\n",
    "# Wrap the longitude, latitude widgets as plopp nodes.\n",
    "longitude_node = ...\n",
    "latitude_node = ..."
   ]
  },
  {
   "cell_type": "code",
   "execution_count": null,
   "id": "0a5855ff-b65a-4b2b-9f14-488fdd1f6a3e",
   "metadata": {},
   "outputs": [],
   "source": [
    "pp.show_graph(data_node)  # no connections yet!"
   ]
  },
  {
   "cell_type": "code",
   "execution_count": null,
   "id": "f7e7e38d-6fd1-4695-b1f1-4c3ff2196f17",
   "metadata": {},
   "outputs": [],
   "source": [
    "# Create the plopp node that takes in the generate_binned_hist function\n",
    "# and links it to the data_node, longitude_node, latitude_node\n",
    "# hint: you can look at the function signature with `generate_binned_hist?`\n",
    "binned_plot = pp.Node(...)"
   ]
  },
  {
   "cell_type": "code",
   "execution_count": null,
   "id": "b6ceb1c3-39b5-4c31-b1dc-ec4cef951ca6",
   "metadata": {},
   "outputs": [],
   "source": [
    "pp.show_graph(data_node)"
   ]
  },
  {
   "cell_type": "code",
   "execution_count": null,
   "id": "74fd36d7-e180-48e4-8872-4c5ff56d8496",
   "metadata": {},
   "outputs": [],
   "source": [
    "# Lets plot the imagefigure coming out of binned_plot.\n",
    "\n",
    "fig = pp.imagefigure(binned_plot, norm=\"log\", aspect=\"equal\")"
   ]
  },
  {
   "cell_type": "code",
   "execution_count": null,
   "id": "80ae24ca-0e73-4880-949d-f9294ae650c2",
   "metadata": {},
   "outputs": [],
   "source": [
    "pp.show_graph(fig)"
   ]
  },
  {
   "cell_type": "code",
   "execution_count": null,
   "id": "49176dc6-a5d1-4847-a05c-04cc79f7b9ba",
   "metadata": {},
   "outputs": [],
   "source": [
    "ipw.HBox([ipw.VBox([longitude, latitude]), fig])"
   ]
  },
  {
   "cell_type": "code",
   "execution_count": null,
   "id": "a968905e-b731-4827-a8cf-f5c4ac4eb211",
   "metadata": {},
   "outputs": [],
   "source": []
  },
  {
   "cell_type": "code",
   "execution_count": null,
   "id": "a7bb5706-821c-4e8c-8754-b0a0eee590d1",
   "metadata": {},
   "outputs": [],
   "source": []
  }
 ],
 "metadata": {
  "kernelspec": {
   "display_name": "Python 3 (ipykernel)",
   "language": "python",
   "name": "python3"
  },
  "language_info": {
   "codemirror_mode": {
    "name": "ipython",
    "version": 3
   },
   "file_extension": ".py",
   "mimetype": "text/x-python",
   "name": "python",
   "nbconvert_exporter": "python",
   "pygments_lexer": "ipython3",
   "version": "3.12.5"
  }
 },
 "nbformat": 4,
 "nbformat_minor": 5
}
