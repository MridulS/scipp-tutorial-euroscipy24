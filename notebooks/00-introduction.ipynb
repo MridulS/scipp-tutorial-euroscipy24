{
 "cells": [
  {
   "cell_type": "markdown",
   "id": "af8867e8-cf81-4d40-967e-ff42cb14482b",
   "metadata": {},
   "source": [
    "<center>\n",
    "    <img src=\"https://scipp.github.io/_static/logo-2022.svg\" width=\"400\" />\n",
    "    <h1>Multi-dimensional arrays with scipp</h1>\n",
    "</center>\n",
    "\n",
    "<br>\n",
    "\n",
    "<table>\n",
    "    <tr>\n",
    "        <td>\n",
    "            <h3>Mridul Seth</h3>\n",
    "            <h4>\n",
    "            Scientific Software Developer @ <img src=\"https://europeanspallationsource.se/themes/custom/ess/logo.svg\" width=\"100\" />\n",
    "            </h4>\n",
    "        </td>\n",
    "    </tr>\n",
    "</table>\n",
    "\n",
    "\n",
    "<center>\n",
    "Neil Vaytet, Simon Heybrock, Jan-Lukas Wynen, Sunyoung Yoo, Johannes Kasimir\n",
    "</center>\n"
   ]
  },
  {
   "cell_type": "markdown",
   "id": "12e342f4-fcb4-4cad-9292-8e2b87ea8ce2",
   "metadata": {},
   "source": [
    "```{admonition} How do we feel about?\n",
    "- [ ] Experience with Python.\n",
    "- [ ] Experience with NumPy.\n",
    "- [ ] Experience with xarray.\n",
    "- [ ] Experience with ipywidgets.\n",
    "- [ ] Experience with scipp.\n",
    "```"
   ]
  }
 ],
 "metadata": {
  "kernelspec": {
   "display_name": "Python 3 (ipykernel)",
   "language": "python",
   "name": "python3"
  },
  "language_info": {
   "codemirror_mode": {
    "name": "ipython",
    "version": 3
   },
   "file_extension": ".py",
   "mimetype": "text/x-python",
   "name": "python",
   "nbconvert_exporter": "python",
   "pygments_lexer": "ipython3",
   "version": "3.12.5"
  }
 },
 "nbformat": 4,
 "nbformat_minor": 5
}
