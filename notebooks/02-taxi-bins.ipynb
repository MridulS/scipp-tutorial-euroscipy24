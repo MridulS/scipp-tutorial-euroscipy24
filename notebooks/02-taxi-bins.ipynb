{
 "cells": [
  {
   "cell_type": "markdown",
   "id": "d3b026d3-5726-4c6f-b2d2-346756eabc12",
   "metadata": {},
   "source": [
    "# Binned data"
   ]
  },
  {
   "cell_type": "markdown",
   "id": "41d7c81d-129a-478a-b8a3-bdb55b92ef5d",
   "metadata": {},
   "source": [
    "Scipp distinguishes **histogrammed** data from **binned** data:\n",
    "\n",
    "- Histogrammed data refers to regular dense arrays of, e.g., floating-point values with an associated bin-edge coordinate.\n",
    "- Binned data refers to the precursor of histogrammed data, i.e., each bin contains a “list” of contributing events or values. Binned data can be converted into a histogram by computing the sum over all events or values in a bin.\n",
    "\n",
    "This is conceptually similar to a multi-dimensional [AwkwardArray](https://awkward-array.org/doc/main/).\n",
    "\n",
    "![img](../images/binned_drawing.svg)"
   ]
  },
  {
   "cell_type": "markdown",
   "id": "5ff18273-3128-47c4-a04f-a2cdea40d9ee",
   "metadata": {},
   "source": [
    "# Taxi-Bins!\n",
    "\n",
    "It is best illustrated with an example of data analysis.\n",
    "For this, we will use one of the NYC taxi datasets.\n",
    "\n",
    "<img src=\"https://vaex.readthedocs.io/en/latest/_images/datasets_2_1.png\" /> <img src=\"https://cdn-images-1.medium.com/v2/resize:fit:2680/1*fqrY2h4uLD3eKEvJ6hlI2g.png\" width=\"600\" />\n",
    "\n",
    "(https://vaex.readthedocs.io/en/latest/datasets.html, Dataset from 2015, obtained as a HDF5 file from the Vaex docs,\n",
    "and subsequently cleaned of outliers)."
   ]
  },
  {
   "cell_type": "code",
   "execution_count": null,
   "id": "c3a3d8a5-6ea3-4ccb-9d6c-3f34e9749c9a",
   "metadata": {},
   "outputs": [],
   "source": [
    "%matplotlib widget\n",
    "\n",
    "import scipp as sc\n",
    "import numpy as np\n",
    "from utils.helper import scatter"
   ]
  },
  {
   "cell_type": "code",
   "execution_count": null,
   "id": "f0811192-b9db-4a5c-92e2-5257dd75fcee",
   "metadata": {},
   "outputs": [],
   "source": [
    "da = sc.io.load_hdf5(\"../data/nyc_taxi_data_2015_small.h5\")\n",
    "da"
   ]
  },
  {
   "cell_type": "code",
   "execution_count": null,
   "id": "8060af40-2a3b-43b8-8df3-f6a80462d813",
   "metadata": {},
   "outputs": [],
   "source": [
    "sc.table(da)"
   ]
  },
  {
   "cell_type": "code",
   "execution_count": null,
   "id": "7accedd7-5560-4184-ba23-9ae980bbc951",
   "metadata": {},
   "outputs": [],
   "source": [
    "n = 5000\n",
    "x = da.coords[\"dropoff_longitude\"].values[::n]\n",
    "y = da.coords[\"dropoff_latitude\"].values[::n]\n",
    "scatter(x, y)"
   ]
  },
  {
   "cell_type": "markdown",
   "id": "ef8f3899-c6fd-4496-969d-4c2ce600625d",
   "metadata": {},
   "source": [
    "## Binning the data records\n",
    "\n",
    "Working with binned data is most efficient when keeping the number of bins relatively low.\n",
    "\n",
    "Binning is essentially like overlaying a grid of bin edges onto our data:"
   ]
  },
  {
   "cell_type": "code",
   "execution_count": null,
   "id": "4984fef8-e248-4676-af90-7a06dadf9015",
   "metadata": {},
   "outputs": [],
   "source": [
    "ax = scatter(x, y)\n",
    "for lon in np.linspace(*ax.get_xlim(), 9):\n",
    "    ax.axvline(lon, color=\"gray\")\n",
    "for lat in np.linspace(*ax.get_ylim(), 9):\n",
    "    ax.axhline(lat, color=\"gray\")"
   ]
  },
  {
   "cell_type": "code",
   "execution_count": null,
   "id": "7f219df4-fda3-444b-a603-55bb9bdf9850",
   "metadata": {},
   "outputs": [],
   "source": [
    "# Bin into 8 longitude & latitude bins\n",
    "binned = da.bin(dropoff_latitude=8, dropoff_longitude=8)\n",
    "binned"
   ]
  },
  {
   "cell_type": "code",
   "execution_count": null,
   "id": "b265021f-c98b-4c82-a008-8657553f8286",
   "metadata": {},
   "outputs": [],
   "source": [
    "binned.hist().plot(aspect=\"equal\", norm=\"log\")"
   ]
  },
  {
   "cell_type": "markdown",
   "id": "8f804241-1fb4-4232-acd8-73645fd31224",
   "metadata": {},
   "source": [
    "### Selecting/slicing bins\n",
    "\n",
    "Binning groups the data into bins, but keeps the underlying table beneath; **no information is lost, it is simply re-ordered**.\n",
    "The bins can then be used for slicing the data, providing extremely efficient data selection and filtering.\n",
    "\n",
    "For example, we select one bin in Manhattan by slicing both `dropoff_longitude` and `dropoff_latitude` dimensions:"
   ]
  },
  {
   "cell_type": "code",
   "execution_count": null,
   "id": "ef2a8d49-3c91-44bf-aa8e-041eea5fb81c",
   "metadata": {},
   "outputs": [],
   "source": [
    "manh = binned[\"dropoff_longitude\", 1][\"dropoff_latitude\", 4]\n",
    "manh"
   ]
  },
  {
   "cell_type": "code",
   "execution_count": null,
   "id": "25fd601d-7107-4c44-8695-4082c737b3de",
   "metadata": {},
   "outputs": [],
   "source": [
    "manh.hist(dropoff_latitude=10, dropoff_longitude=10).plot(norm=\"log\", aspect=\"equal\")"
   ]
  },
  {
   "cell_type": "markdown",
   "id": "eb3ec1d3-a1b0-4c85-a1bb-4e8002be2c6d",
   "metadata": {},
   "source": [
    "We select another bin, which contains the JFK airport:"
   ]
  },
  {
   "cell_type": "code",
   "execution_count": null,
   "id": "a0b52b28-b537-4172-9269-b5f3bc4fa634",
   "metadata": {
    "scrolled": true
   },
   "outputs": [],
   "source": [
    "jfk = binned[\"dropoff_longitude\", 6][\"dropoff_latitude\", 1]\n",
    "jfk.hist(dropoff_latitude=300, dropoff_longitude=300).plot(norm=\"log\", aspect=\"equal\")"
   ]
  },
  {
   "cell_type": "markdown",
   "id": "204cc408-4e35-4bc2-91be-84680f9a306a",
   "metadata": {},
   "source": [
    "![jfk](https://upload.wikimedia.org/wikipedia/commons/thumb/5/5a/JFK_airport_terminal_map.png/640px-JFK_airport_terminal_map.png)\n",
    "\n",
    "(https://commons.wikimedia.org/wiki/File:JFK_airport_terminal_map.png)"
   ]
  },
  {
   "cell_type": "markdown",
   "id": "ef712022-9ecd-429c-9d91-34acb547ce4f",
   "metadata": {},
   "source": [
    "### Binning into a new dimension\n",
    "\n",
    "Data that has already been binned can be binned further into new dimensions, because the underlying records from the original table are still available."
   ]
  },
  {
   "cell_type": "code",
   "execution_count": null,
   "id": "8c6912f8-1e59-42e4-87f6-c2c30302b076",
   "metadata": {},
   "outputs": [],
   "source": [
    "manh"
   ]
  },
  {
   "cell_type": "markdown",
   "id": "72be082f-cf09-4695-b335-14d458bf116b",
   "metadata": {},
   "source": [
    "In the following, we look at the trip distances inside the Manhattan and JFK bins we have selected above."
   ]
  },
  {
   "cell_type": "code",
   "execution_count": null,
   "id": "61e7b416-3836-4c0c-80b5-dd22391f869d",
   "metadata": {},
   "outputs": [],
   "source": [
    "# Use 100 distance bins\n",
    "manh_dist = manh.bin(trip_distance=100)\n",
    "manh_dist"
   ]
  },
  {
   "cell_type": "code",
   "execution_count": null,
   "id": "684c6819-6c2c-400d-b8d2-0abdd5a485e3",
   "metadata": {},
   "outputs": [],
   "source": [
    "manh_dist.hist().plot()"
   ]
  },
  {
   "cell_type": "code",
   "execution_count": null,
   "id": "b78a8379-88f8-4459-8745-de4fb6d3e621",
   "metadata": {},
   "outputs": [],
   "source": [
    "jfk_dist = jfk.bin(trip_distance=100)\n",
    "jfk_dist.hist().plot()"
   ]
  },
  {
   "cell_type": "markdown",
   "id": "433be3e9-49d7-4294-9084-a30bba17d5cf",
   "metadata": {},
   "source": [
    "### Other operations on bins: what is the mean fare amount as a function of distance?\n",
    "\n",
    "In addition to summing/histogramming, bins can be used for other reduction operations: `min()`, `max()`, and `mean()`.\n",
    "\n",
    "To illustrate this, we will now inspect a new variable in our Manhattan data which is the fare amount (in dollars).\n",
    "\n",
    "We start from our result from the previous section, where the Manhattan data has been binned into 100 `'trip_distance'` bins."
   ]
  },
  {
   "cell_type": "code",
   "execution_count": null,
   "id": "2ca8a988-c360-46d5-b6c8-fbe62792b15d",
   "metadata": {},
   "outputs": [],
   "source": [
    "manh_dist"
   ]
  },
  {
   "cell_type": "markdown",
   "id": "799a8dd2-1d99-47af-a4b7-bc312d4dc272",
   "metadata": {},
   "source": [
    "We use the `.bins` property to access the underlying coordinate values of the points that lie inside our selected map area.\n",
    "We can then look at the properties of those coordinates.\n",
    "\n",
    "For example, to get the minimum and maximum fares for all trips that ended inside our Manhattan area, we can do"
   ]
  },
  {
   "cell_type": "code",
   "execution_count": null,
   "id": "4bd9b09c-0eaf-40a7-b519-16c90f09ab22",
   "metadata": {},
   "outputs": [],
   "source": [
    "manh_dist.bins.coords[\"fare_amount\"].min(), manh.bins.coords[\"fare_amount\"].max()"
   ]
  },
  {
   "cell_type": "code",
   "execution_count": null,
   "id": "4bd43862-8470-43ae-9c2f-3e65155e15c9",
   "metadata": {},
   "outputs": [],
   "source": [
    "da.coords[\"fare_amount\"].max()"
   ]
  },
  {
   "cell_type": "markdown",
   "id": "b4a6a044-e9f5-4ec9-baae-210fcaa97b0e",
   "metadata": {},
   "source": [
    "These values are somewhat strange, indicative of bad data in the table.\n",
    "\n",
    "To proceed further in our analysis, we shall restrict our fare range from \\\\$0 to \\\\$200.\n",
    "\n",
    "We first want to visually inspect the fare amount as a function of trip distance."
   ]
  },
  {
   "cell_type": "code",
   "execution_count": null,
   "id": "dc65600b-7fcf-4836-97dd-2b79fa74fd75",
   "metadata": {},
   "outputs": [],
   "source": [
    "# Make 100 bins between 0 and 200 dollars\n",
    "nbins = 100\n",
    "fare_bins = sc.linspace(\"fare_amount\", 0, 200, nbins + 1, unit=\"dollar\")\n",
    "\n",
    "# Bin & plot our data\n",
    "manh_dist.bin(fare_amount=fare_bins).hist().transpose().plot(norm=\"log\")"
   ]
  },
  {
   "cell_type": "markdown",
   "id": "69f43a82-3393-4a13-a33c-5abe2d1f31cb",
   "metadata": {},
   "source": [
    "Some things we can say about the data:\n",
    "\n",
    "- there appears to be a (somewhat expected) correlation between fare amount and trip distance: the further you go, the more you'll have to pay\n",
    "- for a given trip distance, clients usually pay above the diagonal line, but very rarely below\n",
    "- there appears to be a magic fare amount (~\\\\$52) that will take you anywhere from 0 to 60 miles (will come back to this later)\n",
    "\n",
    "Our goal is now to try and compute some average fare amount as a function of distance.\n",
    "\n",
    "We again use the `.bins` property to get to the `'fare_amount'` coordinate, showing it is made up of 100 bins in the `'trip_distance'` dimension:"
   ]
  },
  {
   "cell_type": "code",
   "execution_count": null,
   "id": "23aa9246-1665-4e1f-82b9-53f935925c28",
   "metadata": {},
   "outputs": [],
   "source": [
    "manh_dist.bins.coords[\"fare_amount\"]"
   ]
  },
  {
   "cell_type": "code",
   "execution_count": null,
   "id": "2ec8a477-6827-4ab8-8a0e-1e50e7a49464",
   "metadata": {},
   "outputs": [],
   "source": [
    "mean_fare = manh_dist.bins.coords[\"fare_amount\"].bins.mean()\n",
    "mean_fare"
   ]
  },
  {
   "cell_type": "markdown",
   "id": "a5615693-c67f-4035-a6df-beb9afdbd732",
   "metadata": {},
   "source": [
    "This is *almost* what we were after, except that it contains only values.\n",
    "We need to combine this with the coordinate of the `'trip_distance'` bins:"
   ]
  },
  {
   "cell_type": "code",
   "execution_count": null,
   "id": "74b9894b-4cc0-4c59-99a4-89aac647b34f",
   "metadata": {},
   "outputs": [],
   "source": [
    "# Remember to add the coordinate for the `trip_distance` bins back\n",
    "mean_fare = sc.DataArray(\n",
    "    data=mean_fare, coords={\"trip_distance\": manh_dist.coords[\"trip_distance\"]}\n",
    ")\n",
    "mean_fare.plot()"
   ]
  },
  {
   "cell_type": "code",
   "execution_count": null,
   "id": "b1bc4a14-7bf8-436d-a939-afa40dc0771f",
   "metadata": {},
   "outputs": [],
   "source": [
    "mean_fare"
   ]
  },
  {
   "cell_type": "markdown",
   "id": "24cdd1db-91ae-40f3-8138-da85786bd4c2",
   "metadata": {},
   "source": [
    "### Filtering out the magic \\$52 fare\n",
    "\n",
    "We would like to clean up our `fare_amount` vs `trip_distance` relation by filtering out all trips that have a fare amount of \\$52.\n",
    "\n",
    "One way to do this would be to use Numpy masking or smart indexing to filter out all \\$52 fares in the original data table.\n",
    "But this can potentially be quite a costly operation (both in CPU and memory, as the list of indices to save could be large).\n",
    "\n",
    "An alternative way is to once again use bins.\n",
    "\n",
    "We make 3 bins in the `'fare_amount'` dimension, where the middle bin is very narrow, centered around \\$52.\n",
    "\n",
    "https://www.nytimes.com/2022/11/17/nyregion/taxi-fare-hike-nyc.html"
   ]
  },
  {
   "cell_type": "code",
   "execution_count": null,
   "id": "f8198921-ec3a-4d9e-ab49-11e8e158c615",
   "metadata": {},
   "outputs": [],
   "source": [
    "# Make 3 bins = 4 bin edges\n",
    "fare_bins = sc.array(dims=[\"fare_amount\"], values=[0, 51.75, 52.25, 200], unit=\"dollar\")\n",
    "manh_dist_fare = manh_dist.bin(fare_amount=fare_bins)\n",
    "manh_dist_fare"
   ]
  },
  {
   "cell_type": "markdown",
   "id": "844cd579-ea69-4b7b-9906-c449c7f5ae1c",
   "metadata": {},
   "source": [
    "Once we have this, we leave the middle bin out by indexing with a step of 2,\n",
    "concatenate the first and last `'fare_amount'` bins into a single bin using `concat()`,\n",
    "and finally compute the mean fare as we did above."
   ]
  },
  {
   "cell_type": "code",
   "execution_count": null,
   "id": "29081160-075a-4ad5-92f0-0c992aad1377",
   "metadata": {},
   "outputs": [],
   "source": [
    "#                                   Access fare_amount coord | Select first & last bin | Concatenate        | Compute mean as above\n",
    "mean_fare_filtered = (\n",
    "    manh_dist_fare.bins.coords[\"fare_amount\"][\"fare_amount\", ::2]\n",
    "    .bins.concat(\"fare_amount\")\n",
    "    .bins.mean()\n",
    ")\n",
    "mean_fare_filtered"
   ]
  },
  {
   "cell_type": "code",
   "execution_count": null,
   "id": "2a6e747c-d11f-4dd5-8d3f-b374924b18f0",
   "metadata": {},
   "outputs": [],
   "source": [
    "# Remember to add the coordinate for the `trip_distance` bins back\n",
    "mean_fare_filtered = sc.DataArray(\n",
    "    data=mean_fare_filtered, coords={\"trip_distance\": manh_dist.coords[\"trip_distance\"]}\n",
    ")\n",
    "\n",
    "# Plot both results\n",
    "import plopp as pp\n",
    "\n",
    "pp.plot({\"unfiltered\": mean_fare, \"filtered\": mean_fare_filtered})"
   ]
  },
  {
   "cell_type": "markdown",
   "id": "52c39e67-63aa-4a92-9b1a-5a747ce080ce",
   "metadata": {},
   "source": [
    "We can now see that the \\$52 fares were introducing significant skew in our result."
   ]
  },
  {
   "cell_type": "code",
   "execution_count": null,
   "id": "e109100d-f720-4658-9519-091903570309",
   "metadata": {},
   "outputs": [],
   "source": [
    "manh.hist(dropoff_latitude=400, dropoff_longitude=400).plot(norm=\"log\", aspect=\"equal\")"
   ]
  },
  {
   "cell_type": "markdown",
   "id": "60f35554-9b10-4382-aa9d-034240e03a1f",
   "metadata": {},
   "source": [
    ":::{important} What about the other airport?\n",
    "\n",
    "- Using the `binned` data array, extract the tile for LaGuardia Airport (hint: The coordinates are: (40.7766, -73.8742))\n",
    "- Plot the histogram in that LGA bin just like we did for the `manh` and `jfk`.\n",
    "- Plot the histogram of `trip_distance` by binning`lga` along the `trip_distance` dimension, just like we did for `jfk`. Where does it peak?\n",
    "\n",
    ":::\n",
    "\n",
    ":::{note} Solution\n",
    ":class: dropdown\n",
    "```\n",
    "lga = binned[\"dropoff_longitude\", 4][\"dropoff_latitude\", 4]\n",
    "\n",
    "lga.hist(dropoff_latitude=300, dropoff_longitude=300).plot(norm=\"log\", aspect=\"equal\")\n",
    "\n",
    "lga_dist = lga.bin(trip_distance=100)\n",
    "lga_dist.hist().plot()\n",
    "```\n",
    "\n",
    ":::"
   ]
  },
  {
   "cell_type": "code",
   "execution_count": null,
   "id": "2596c734-2d76-4c34-84b5-ae69e0ac5b47",
   "metadata": {},
   "outputs": [],
   "source": []
  },
  {
   "cell_type": "code",
   "execution_count": null,
   "id": "874308b0-d798-4c67-9c13-d80ecbb329c8",
   "metadata": {},
   "outputs": [],
   "source": []
  },
  {
   "cell_type": "code",
   "execution_count": null,
   "id": "22ae09a3-c834-4524-ac7f-76379308e6aa",
   "metadata": {},
   "outputs": [],
   "source": []
  }
 ],
 "metadata": {
  "kernelspec": {
   "display_name": "Python 3 (ipykernel)",
   "language": "python",
   "name": "python3"
  },
  "language_info": {
   "codemirror_mode": {
    "name": "ipython",
    "version": 3
   },
   "file_extension": ".py",
   "mimetype": "text/x-python",
   "name": "python",
   "nbconvert_exporter": "python",
   "pygments_lexer": "ipython3",
   "version": "3.12.5"
  }
 },
 "nbformat": 4,
 "nbformat_minor": 5
}
