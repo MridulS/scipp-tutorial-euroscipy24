{
 "cells": [
  {
   "cell_type": "code",
   "execution_count": null,
   "id": "b300b0b4-4fd8-4324-a9a1-3d0f14ef4327",
   "metadata": {},
   "outputs": [],
   "source": [
    "%matplotlib widget\n",
    "\n",
    "import scipp as sc\n",
    "import plopp as pp\n",
    "import numpy as np\n",
    "from plopp import widgets\n",
    "import ipywidgets as ipw\n",
    "from scipp.scipy.ndimage import gaussian_filter"
   ]
  },
  {
   "cell_type": "code",
   "execution_count": null,
   "id": "48d4b43a-d0bb-45ac-8759-c010d6184b81",
   "metadata": {},
   "outputs": [],
   "source": [
    "da = sc.io.load_hdf5('nyc_taxi_data_2015_small.h5')\n",
    "data = da.group(\"dropoff_hour\").hist(dropoff_latitude=500, dropoff_longitude=500)\n",
    "data"
   ]
  },
  {
   "cell_type": "code",
   "execution_count": null,
   "id": "d8495f20-ab87-49c1-9346-30459bc97848",
   "metadata": {},
   "outputs": [],
   "source": [
    "# Slider node that provides index to slice\n",
    "slider = ipw.IntSlider(description=\"Hour:\", min=0, max=23)\n",
    "slider_node = pp.widget_node(slider)\n",
    "\n",
    "# Node that actually does the slicing\n",
    "slice_node = pp.Node(lambda da, ind: da[\"dropoff_hour\", ind], da=data, ind=slider_node)\n",
    "\n",
    "# Add a 2D figure to show the NYC map\n",
    "fig2d = pp.imagefigure(slice_node, norm=\"log\", cbar=False)\n",
    "\n",
    "# Add a node after the slicing to sum along the latitude dimension\n",
    "sum_lat = pp.Node(sc.sum, slice_node, dim=\"dropoff_latitude\")\n",
    "# Add a node after the slicing to sum along the longitude dimension\n",
    "sum_lon = pp.Node(sc.sum, slice_node, dim=\"dropoff_longitude\")\n",
    "\n",
    "# Add a node after the sum that performs as Gaussian smoothing\n",
    "smooth = pp.Node(gaussian_filter, sum_lat, sigma=5)\n",
    "\n",
    "# Add a 1D figure that will display sum along longitude\n",
    "fig_lon = pp.linefigure(sum_lon, norm=\"log\")\n",
    "# Add a 1D figure that will display both raw latitude sum and smoothed data\n",
    "fig_lat = pp.linefigure(sum_lat, smooth, norm=\"log\")\n",
    "\n",
    "widgets.Box([slider, fig2d, fig_lon, fig_lat])  # Container box"
   ]
  },
  {
   "cell_type": "code",
   "execution_count": null,
   "id": "5b3a8397-cc90-4fe4-9332-976d4fc7a5e7",
   "metadata": {},
   "outputs": [],
   "source": [
    "# Slider node that provides index to slice\n",
    "slider = ipw.IntSlider(description=\"Hour:\", min=0, max=23)\n",
    "slider_node = pp.widget_node(slider)\n",
    "\n",
    "# Node that actually does the slicing\n",
    "slice_node = pp.Node(lambda da, ind: da[\"dropoff_hour\", ind], da=data, ind=slider_node)\n",
    "\n",
    "# Add a 2D figure to show the NYC map\n",
    "fig2d = pp.figure2d(slice_node, norm=\"log\", cbar=False)\n",
    "\n",
    "# Add a node after the slicing to sum along the latitude dimension\n",
    "sum_lat = pp.Node(sc.sum, slice_node, dim=\"dropoff_latitude\")\n",
    "# Add a node after the slicing to sum along the longitude dimension\n",
    "sum_lon = pp.Node(sc.sum, slice_node, dim=\"dropoff_longitude\")\n",
    "\n",
    "\n",
    "# Add a new slider that will act as input to the Gaussian smoothing node\n",
    "smooth_slider = ipw.IntSlider(description=\"kernel:\", min=1, max=25)\n",
    "smooth_slider_node = pp.widget_node(smooth_slider)\n",
    "\n",
    "\n",
    "# Add a node after the sum that performs as Gaussian smoothing\n",
    "smooth = pp.Node(gaussian_filter, sum_lat, sigma=smooth_slider_node)\n",
    "\n",
    "# Add a 1D figure that will display sum along longitude\n",
    "fig_lon = pp.figure1d(sum_lon, norm=\"log\")\n",
    "# Add a 1D figure that will display both raw sum and smoothed data\n",
    "fig_lat = pp.figure1d(sum_lat, smooth, norm=\"log\")\n",
    "\n",
    "widgets.Box([[slider, smooth_slider], [fig2d, fig_lon], fig_lat])  # Container box"
   ]
  },
  {
   "cell_type": "code",
   "execution_count": null,
   "id": "a9def160-e4a0-49b2-9fa9-d73be1e1f6c2",
   "metadata": {},
   "outputs": [],
   "source": [
    "pp.show_graph(slider_node)"
   ]
  },
  {
   "cell_type": "code",
   "execution_count": null,
   "id": "692b69b4-8a28-4064-b681-e740c8555bf5",
   "metadata": {},
   "outputs": [],
   "source": [
    "a = pp.Node(np.array([1, 2, 3, 4, 5]))\n",
    "b = pp.Node(np.array([6, 7, 8, 9, 10]))"
   ]
  },
  {
   "cell_type": "code",
   "execution_count": null,
   "id": "2c1840e9-8cfd-4d7b-abd3-2b2e0364f70c",
   "metadata": {},
   "outputs": [],
   "source": []
  }
 ],
 "metadata": {
  "kernelspec": {
   "display_name": "Python 3 (ipykernel)",
   "language": "python",
   "name": "python3"
  },
  "language_info": {
   "codemirror_mode": {
    "name": "ipython",
    "version": 3
   },
   "file_extension": ".py",
   "mimetype": "text/x-python",
   "name": "python",
   "nbconvert_exporter": "python",
   "pygments_lexer": "ipython3",
   "version": "3.12.5"
  }
 },
 "nbformat": 4,
 "nbformat_minor": 5
}
